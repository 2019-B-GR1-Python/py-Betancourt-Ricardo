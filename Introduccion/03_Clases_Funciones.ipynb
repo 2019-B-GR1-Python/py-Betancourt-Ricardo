{
 "cells": [
  {
   "cell_type": "code",
   "execution_count": 2,
   "metadata": {},
   "outputs": [
    {
     "data": {
      "text/plain": [
       "4"
      ]
     },
     "execution_count": 2,
     "metadata": {},
     "output_type": "execute_result"
    }
   ],
   "source": [
    "def elevar_al_cuadrado(numero):\n",
    "    return numero*numero\n",
    "elevar_al_cuadrado(2)"
   ]
  },
  {
   "cell_type": "code",
   "execution_count": 3,
   "metadata": {},
   "outputs": [
    {
     "data": {
      "text/plain": [
       "4"
      ]
     },
     "execution_count": 3,
     "metadata": {},
     "output_type": "execute_result"
    }
   ],
   "source": [
    "elevar_al_cuaddrado_lambda = lambda numero: numero*numero\n",
    "elevar_al_cuaddrado_lambda(2)"
   ]
  },
  {
   "cell_type": "code",
   "execution_count": 4,
   "metadata": {},
   "outputs": [],
   "source": [
    "mensaje_bienvenida = lambda  nombre: print(\"Hola \",nombre)"
   ]
  },
  {
   "cell_type": "code",
   "execution_count": 5,
   "metadata": {},
   "outputs": [
    {
     "name": "stdout",
     "output_type": "stream",
     "text": [
      "Hola  Ricardo\n"
     ]
    }
   ],
   "source": [
    "mensaje_bienvenida(\"Ricardo\")"
   ]
  },
  {
   "cell_type": "code",
   "execution_count": 6,
   "metadata": {},
   "outputs": [
    {
     "data": {
      "text/plain": [
       "5"
      ]
     },
     "execution_count": 6,
     "metadata": {},
     "output_type": "execute_result"
    }
   ],
   "source": [
    "suma_numeros = lambda x,y:x+y\n",
    "suma_numeros(2,3)"
   ]
  },
  {
   "cell_type": "code",
   "execution_count": 7,
   "metadata": {},
   "outputs": [],
   "source": [
    "class Nada:\n",
    "    pass"
   ]
  },
  {
   "cell_type": "code",
   "execution_count": 8,
   "metadata": {},
   "outputs": [
    {
     "name": "stdout",
     "output_type": "stream",
     "text": [
      "<__main__.Nada object at 0x000001B66C0D5D30>\n"
     ]
    }
   ],
   "source": [
    "una_nada = Nada()\n",
    "print(una_nada)"
   ]
  },
  {
   "cell_type": "code",
   "execution_count": 10,
   "metadata": {},
   "outputs": [
    {
     "name": "stdout",
     "output_type": "stream",
     "text": [
      "<class '__main__.Nada'>\n"
     ]
    }
   ],
   "source": [
    "print(type(una_nada))"
   ]
  },
  {
   "cell_type": "code",
   "execution_count": 31,
   "metadata": {},
   "outputs": [],
   "source": [
    "class Auto:\n",
    "    color = None\n",
    "    __numero_chasis = 1  #private\n",
    "    \n",
    "    def __init__(self,color): #self =this\n",
    "        print(\"Empezo el constructor\")\n",
    "        print(self.color)\n",
    "        self.color = color\n",
    "        \n",
    "    def __str__(self):\n",
    "         return  print(f\"Color: {self.color}\\n Chasis: {self.__numero_chasis} \")\n",
    "    \n",
    "    def numero_chasis_impuesto(self):\n",
    "        return self.__calcular_impuesto()\n",
    "    def __calcular_impuesto():\n",
    "        return 14*self.__numero_chasis\n",
    "    \n"
   ]
  },
  {
   "cell_type": "code",
   "execution_count": 32,
   "metadata": {
    "scrolled": true
   },
   "outputs": [
    {
     "name": "stdout",
     "output_type": "stream",
     "text": [
      "Empezo el constructor\n",
      "None\n",
      "ROJOZUL\n",
      "Color: ROJOZUL\n",
      " Chasis: 1 \n"
     ]
    },
    {
     "ename": "TypeError",
     "evalue": "__str__ returned non-string (type NoneType)",
     "output_type": "error",
     "traceback": [
      "\u001b[1;31m---------------------------------------------------------------------------\u001b[0m",
      "\u001b[1;31mTypeError\u001b[0m                                 Traceback (most recent call last)",
      "\u001b[1;32m<ipython-input-32-e103a2f3804e>\u001b[0m in \u001b[0;36m<module>\u001b[1;34m\u001b[0m\n\u001b[0;32m      1\u001b[0m \u001b[0mnuevo_auto\u001b[0m \u001b[1;33m=\u001b[0m \u001b[0mAuto\u001b[0m\u001b[1;33m(\u001b[0m\u001b[1;34m\"ROJOZUL\"\u001b[0m\u001b[1;33m)\u001b[0m\u001b[1;33m\u001b[0m\u001b[1;33m\u001b[0m\u001b[0m\n\u001b[0;32m      2\u001b[0m \u001b[0mprint\u001b[0m\u001b[1;33m(\u001b[0m\u001b[0mnuevo_auto\u001b[0m\u001b[1;33m.\u001b[0m\u001b[0mcolor\u001b[0m\u001b[1;33m)\u001b[0m\u001b[1;33m\u001b[0m\u001b[1;33m\u001b[0m\u001b[0m\n\u001b[1;32m----> 3\u001b[1;33m \u001b[0mprint\u001b[0m\u001b[1;33m(\u001b[0m\u001b[0mnuevo_auto\u001b[0m\u001b[1;33m)\u001b[0m\u001b[1;33m\u001b[0m\u001b[1;33m\u001b[0m\u001b[0m\n\u001b[0m\u001b[0;32m      4\u001b[0m \u001b[0mnumero\u001b[0m\u001b[1;33m\u001b[0m\u001b[1;33m\u001b[0m\u001b[0m\n",
      "\u001b[1;31mTypeError\u001b[0m: __str__ returned non-string (type NoneType)"
     ]
    }
   ],
   "source": [
    "nuevo_auto = Auto(\"ROJOZUL\")\n",
    "print(nuevo_auto.color)\n",
    "print(nuevo_auto)\n",
    "numero"
   ]
  },
  {
   "cell_type": "code",
   "execution_count": 33,
   "metadata": {},
   "outputs": [
    {
     "name": "stdout",
     "output_type": "stream",
     "text": [
      "Inicializando BMW\n",
      "Empezo el constructor\n",
      "None\n"
     ]
    }
   ],
   "source": [
    "class BMW(Auto):\n",
    "    def __init__(self,color):\n",
    "        print(\"Inicializando BMW\")\n",
    "        super().__init__(color)\n",
    "                         \n",
    "carrito = BMW(\"Negro\")"
   ]
  },
  {
   "cell_type": "code",
   "execution_count": 39,
   "metadata": {},
   "outputs": [
    {
     "data": {
      "text/plain": [
       "2"
      ]
     },
     "execution_count": 39,
     "metadata": {},
     "output_type": "execute_result"
    }
   ],
   "source": [
    "\n",
    "# Funciones dentro de Funciones\n",
    "def calculadora(num_uno, num_dos, operacion = \"suma\"):\n",
    "    def suma():\n",
    "        return num_uno+ num_dos\n",
    "    def resta():\n",
    "        return num_uno-num_dos\n",
    "    def multiplicacion():\n",
    "        return num_uno*num_dos\n",
    "    def division():\n",
    "        return num_uno-num_dos\n",
    "    def opcion_seleccionada():\n",
    "        opciones = {\n",
    "            'suma': suma(),\n",
    "            'multiplicacion': multiplicacion(),\n",
    "            'resta': resta(),\n",
    "            'division': division()       \n",
    "        }\n",
    "        return opciones[operacion]\n",
    "    \n",
    "    return opcion_seleccionada()\n",
    "calculadora(1,2,\"multiplicacion\")"
   ]
  },
  {
   "cell_type": "code",
   "execution_count": null,
   "metadata": {},
   "outputs": [],
   "source": []
  }
 ],
 "metadata": {
  "kernelspec": {
   "display_name": "Python 3",
   "language": "python",
   "name": "python3"
  },
  "language_info": {
   "codemirror_mode": {
    "name": "ipython",
    "version": 3
   },
   "file_extension": ".py",
   "mimetype": "text/x-python",
   "name": "python",
   "nbconvert_exporter": "python",
   "pygments_lexer": "ipython3",
   "version": "3.7.3"
  }
 },
 "nbformat": 4,
 "nbformat_minor": 2
}
