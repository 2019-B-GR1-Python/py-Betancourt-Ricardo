{
 "cells": [
  {
   "cell_type": "code",
   "execution_count": 1,
   "metadata": {},
   "outputs": [
    {
     "name": "stdout",
     "output_type": "stream",
     "text": [
      "Hola Ricardo\n"
     ]
    }
   ],
   "source": [
    "def hola_mundo():\n",
    "    print(\"Hola Ricardo\")\n",
    "hola_mundo()"
   ]
  },
  {
   "cell_type": "code",
   "execution_count": 2,
   "metadata": {},
   "outputs": [
    {
     "name": "stdout",
     "output_type": "stream",
     "text": [
      "Hola Ricardo\n"
     ]
    },
    {
     "data": {
      "text/plain": [
       "NoneType"
      ]
     },
     "execution_count": 2,
     "metadata": {},
     "output_type": "execute_result"
    }
   ],
   "source": [
    "type(hola_mundo())"
   ]
  },
  {
   "cell_type": "code",
   "execution_count": 6,
   "metadata": {},
   "outputs": [
    {
     "name": "stdout",
     "output_type": "stream",
     "text": [
      "suma 3\n"
     ]
    }
   ],
   "source": [
    "def sumar_dos_numeros(num_uno,num_dos): #Argumentos Requeridos\n",
    "    return num_uno + num_dos\n",
    "suma=sumar_dos_numeros(1,2)\n",
    "print(f\"suma {suma}\")\n"
   ]
  },
  {
   "cell_type": "code",
   "execution_count": 12,
   "metadata": {},
   "outputs": [
    {
     "name": "stdout",
     "output_type": "stream",
     "text": [
      "EPN\n",
      "Espe\n"
     ]
    }
   ],
   "source": [
    "#Argumentos Opcinales\n",
    "def imprimir_universidad(nombre = 'EPN'):\n",
    "    print(f\"{nombre}\")\n",
    "imprimir_universidad()\n",
    "imprimir_universidad (\"Espe\")"
   ]
  },
  {
   "cell_type": "code",
   "execution_count": 14,
   "metadata": {},
   "outputs": [
    {
     "name": "stdout",
     "output_type": "stream",
     "text": [
      "Color: rojo\n",
      "placa: pdw242\n",
      "hp: 400\n",
      "anio: 2019\n",
      "Color: Amazul\n",
      "placa: PWA500\n",
      "hp: 400\n",
      "anio: Verde\n"
     ]
    }
   ],
   "source": [
    "def imprimir_carro(color, placa, hp, anio):\n",
    "    print(f\"Color: {color}\")\n",
    "    print(f\"placa: {placa}\")\n",
    "    print(f\"hp: {hp}\")\n",
    "    print(f\"anio: {anio}\")\n",
    "imprimir_carro(\"rojo\",\"pdw242\",400,2019)\n",
    "\n",
    "#Parametros nombrados\n",
    "imprimir_carro(anio=\"Verde\", placa=\"PWA500\",hp=400,color=\"Amazul\")\n",
    "#Enviar siempre los parametros requeridos"
   ]
  },
  {
   "cell_type": "code",
   "execution_count": 1,
   "metadata": {},
   "outputs": [
    {
     "ename": "SyntaxError",
     "evalue": "invalid syntax (<ipython-input-1-947fd6e7711d>, line 3)",
     "output_type": "error",
     "traceback": [
      "\u001b[1;36m  File \u001b[1;32m\"<ipython-input-1-947fd6e7711d>\"\u001b[1;36m, line \u001b[1;32m3\u001b[0m\n\u001b[1;33m    if(longitud == 0)\u001b[0m\n\u001b[1;37m                     ^\u001b[0m\n\u001b[1;31mSyntaxError\u001b[0m\u001b[1;31m:\u001b[0m invalid syntax\n"
     ]
    }
   ],
   "source": [
    "def sumar(primer_numero, *numeros): # Parametros infinitos\n",
    "    longitud= len(numeros)\n",
    "    if(longitud == 0)\n",
    "        return primer_numero\n",
    "    else\n",
    "        suma = 0 + primer_numero\n",
    "        "
   ]
  },
  {
   "cell_type": "code",
   "execution_count": 16,
   "metadata": {},
   "outputs": [
    {
     "name": "stdout",
     "output_type": "stream",
     "text": [
      "<class 'dict'>\n",
      "{}\n"
     ]
    }
   ],
   "source": [
    "def imprimir_configuracion (nombre, valor = 10,\n",
    "                            *valores_carga,**key_word_argumenrs):\n",
    "    print(type(key_word_argumenrs))\n",
    "    print(key_word_argumenrs)\n",
    "imprimir_configuracion(\"conf1\",20,30,40,50)"
   ]
  },
  {
   "cell_type": "code",
   "execution_count": null,
   "metadata": {},
   "outputs": [],
   "source": []
  }
 ],
 "metadata": {
  "kernelspec": {
   "display_name": "Python 3",
   "language": "python",
   "name": "python3"
  },
  "language_info": {
   "codemirror_mode": {
    "name": "ipython",
    "version": 3
   },
   "file_extension": ".py",
   "mimetype": "text/x-python",
   "name": "python",
   "nbconvert_exporter": "python",
   "pygments_lexer": "ipython3",
   "version": "3.7.3"
  }
 },
 "nbformat": 4,
 "nbformat_minor": 2
}